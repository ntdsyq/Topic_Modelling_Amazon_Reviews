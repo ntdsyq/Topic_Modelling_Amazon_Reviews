{
 "cells": [
  {
   "cell_type": "code",
   "execution_count": 2,
   "metadata": {},
   "outputs": [],
   "source": [
    "import pandas as pd\n",
    "import gzip\n",
    "import matplotlib.pyplot as plt\n",
    "%matplotlib inline\n",
    "pd.set_option('display.max_colwidth', -1)"
   ]
  },
  {
   "cell_type": "code",
   "execution_count": 3,
   "metadata": {},
   "outputs": [],
   "source": [
    "def parse(path):\n",
    "  g = gzip.open(path, 'rb')\n",
    "  for l in g:\n",
    "    yield eval(l)\n",
    "\n",
    "def getDF(path):\n",
    "  i = 0\n",
    "  df = {}\n",
    "  for d in parse(path):\n",
    "    df[i] = d\n",
    "    i += 1\n",
    "  return pd.DataFrame.from_dict(df, orient='index')"
   ]
  },
  {
   "cell_type": "code",
   "execution_count": 4,
   "metadata": {},
   "outputs": [
    {
     "data": {
      "text/plain": [
       "(498196, 9)"
      ]
     },
     "execution_count": 4,
     "metadata": {},
     "output_type": "execute_result"
    }
   ],
   "source": [
    "# possible values: \"Electronics\", \"Cell_Phones_and_Accessories\", \"Clothing_Shoes_and_Jewelry\"\n",
    "product_type = \"Electronics\"\n",
    "meta_fname = \"meta_\" + product_type + \".json.gz\"\n",
    "df = getDF(meta_fname)\n",
    "df.shape"
   ]
  },
  {
   "cell_type": "code",
   "execution_count": 5,
   "metadata": {},
   "outputs": [
    {
     "data": {
      "text/plain": [
       "Index(['asin', 'imUrl', 'description', 'categories', 'title', 'price',\n",
       "       'salesRank', 'related', 'brand'],\n",
       "      dtype='object')"
      ]
     },
     "execution_count": 5,
     "metadata": {},
     "output_type": "execute_result"
    }
   ],
   "source": [
    "df.columns"
   ]
  },
  {
   "cell_type": "code",
   "execution_count": 6,
   "metadata": {},
   "outputs": [],
   "source": [
    "key_cols = ['asin', 'title', 'price', 'brand','categories', 'description']"
   ]
  },
  {
   "cell_type": "code",
   "execution_count": 7,
   "metadata": {},
   "outputs": [
    {
     "data": {
      "text/html": [
       "<div>\n",
       "<style scoped>\n",
       "    .dataframe tbody tr th:only-of-type {\n",
       "        vertical-align: middle;\n",
       "    }\n",
       "\n",
       "    .dataframe tbody tr th {\n",
       "        vertical-align: top;\n",
       "    }\n",
       "\n",
       "    .dataframe thead th {\n",
       "        text-align: right;\n",
       "    }\n",
       "</style>\n",
       "<table border=\"1\" class=\"dataframe\">\n",
       "  <thead>\n",
       "    <tr style=\"text-align: right;\">\n",
       "      <th></th>\n",
       "      <th>asin</th>\n",
       "      <th>categories</th>\n",
       "    </tr>\n",
       "  </thead>\n",
       "  <tbody>\n",
       "    <tr>\n",
       "      <th>408673</th>\n",
       "      <td>B00B1NAAKU</td>\n",
       "      <td>[[Electronics, Computers &amp; Accessories, Cables &amp; Accessories, Computer Cable Adapters, USB-to-USB Adapters]]</td>\n",
       "    </tr>\n",
       "    <tr>\n",
       "      <th>148956</th>\n",
       "      <td>B002KDQPWM</td>\n",
       "      <td>[[Electronics, Camera &amp; Photo, Accessories, Digital Camera Accessories, Shutter Release Cords]]</td>\n",
       "    </tr>\n",
       "    <tr>\n",
       "      <th>16464</th>\n",
       "      <td>B00008YMEV</td>\n",
       "      <td>[[Electronics, Computers &amp; Accessories, Cables &amp; Accessories, Surge Protectors]]</td>\n",
       "    </tr>\n",
       "    <tr>\n",
       "      <th>481124</th>\n",
       "      <td>B00H9ORVRK</td>\n",
       "      <td>[[Electronics, Computers &amp; Accessories, Laptops]]</td>\n",
       "    </tr>\n",
       "    <tr>\n",
       "      <th>456588</th>\n",
       "      <td>B00EN27ULS</td>\n",
       "      <td>[[Electronics, Computers &amp; Accessories, Cables &amp; Accessories, Input Devices, Graphics Tablets]]</td>\n",
       "    </tr>\n",
       "    <tr>\n",
       "      <th>309991</th>\n",
       "      <td>B006SF6D1Q</td>\n",
       "      <td>[[Electronics, Computers &amp; Accessories, Data Storage, USB Flash Drives]]</td>\n",
       "    </tr>\n",
       "    <tr>\n",
       "      <th>92128</th>\n",
       "      <td>B0011DK0GY</td>\n",
       "      <td>[[Electronics, Car &amp; Vehicle Electronics, Vehicle Electronics Accessories, Radar Detectors]]</td>\n",
       "    </tr>\n",
       "    <tr>\n",
       "      <th>438795</th>\n",
       "      <td>B00D23K2Q4</td>\n",
       "      <td>[[Electronics, Computers &amp; Accessories, Laptops]]</td>\n",
       "    </tr>\n",
       "    <tr>\n",
       "      <th>201216</th>\n",
       "      <td>B003VW22UK</td>\n",
       "      <td>[[Electronics, Accessories &amp; Supplies, Audio &amp; Video Accessories, TV Accessories &amp; Parts, TV Ceiling &amp; Wall Mounts]]</td>\n",
       "    </tr>\n",
       "    <tr>\n",
       "      <th>440956</th>\n",
       "      <td>B00D8XNU6C</td>\n",
       "      <td>[[Electronics, Accessories &amp; Supplies, Audio &amp; Video Accessories, Remote Controls, TV Remote Controls]]</td>\n",
       "    </tr>\n",
       "  </tbody>\n",
       "</table>\n",
       "</div>"
      ],
      "text/plain": [
       "              asin  \\\n",
       "408673  B00B1NAAKU   \n",
       "148956  B002KDQPWM   \n",
       "16464   B00008YMEV   \n",
       "481124  B00H9ORVRK   \n",
       "456588  B00EN27ULS   \n",
       "309991  B006SF6D1Q   \n",
       "92128   B0011DK0GY   \n",
       "438795  B00D23K2Q4   \n",
       "201216  B003VW22UK   \n",
       "440956  B00D8XNU6C   \n",
       "\n",
       "                                                                                                                  categories  \n",
       "408673  [[Electronics, Computers & Accessories, Cables & Accessories, Computer Cable Adapters, USB-to-USB Adapters]]          \n",
       "148956  [[Electronics, Camera & Photo, Accessories, Digital Camera Accessories, Shutter Release Cords]]                       \n",
       "16464   [[Electronics, Computers & Accessories, Cables & Accessories, Surge Protectors]]                                      \n",
       "481124  [[Electronics, Computers & Accessories, Laptops]]                                                                     \n",
       "456588  [[Electronics, Computers & Accessories, Cables & Accessories, Input Devices, Graphics Tablets]]                       \n",
       "309991  [[Electronics, Computers & Accessories, Data Storage, USB Flash Drives]]                                              \n",
       "92128   [[Electronics, Car & Vehicle Electronics, Vehicle Electronics Accessories, Radar Detectors]]                          \n",
       "438795  [[Electronics, Computers & Accessories, Laptops]]                                                                     \n",
       "201216  [[Electronics, Accessories & Supplies, Audio & Video Accessories, TV Accessories & Parts, TV Ceiling & Wall Mounts]]  \n",
       "440956  [[Electronics, Accessories & Supplies, Audio & Video Accessories, Remote Controls, TV Remote Controls]]               "
      ]
     },
     "execution_count": 7,
     "metadata": {},
     "output_type": "execute_result"
    }
   ],
   "source": [
    "df[['asin','categories']].sample(10)  \n",
    "# categories are nested lists, each list is one category and its sub-categories under all electronics"
   ]
  },
  {
   "cell_type": "code",
   "execution_count": 8,
   "metadata": {},
   "outputs": [
    {
     "name": "stdout",
     "output_type": "stream",
     "text": [
      "1567\n"
     ]
    }
   ],
   "source": [
    "from collections import defaultdict\n",
    "cat = defaultdict(int)\n",
    "\n",
    "for row in df['categories']:\n",
    "    for e in row:\n",
    "        hc = ''\n",
    "        for i,c in enumerate(e):\n",
    "            if i > 0:\n",
    "                hc = hc + '->' + c\n",
    "            else:\n",
    "                hc = c\n",
    "            cat[hc] += 1\n",
    "\n",
    "print(len(cat.keys()))"
   ]
  },
  {
   "cell_type": "code",
   "execution_count": 9,
   "metadata": {},
   "outputs": [
    {
     "data": {
      "text/html": [
       "<div>\n",
       "<style scoped>\n",
       "    .dataframe tbody tr th:only-of-type {\n",
       "        vertical-align: middle;\n",
       "    }\n",
       "\n",
       "    .dataframe tbody tr th {\n",
       "        vertical-align: top;\n",
       "    }\n",
       "\n",
       "    .dataframe thead th {\n",
       "        text-align: right;\n",
       "    }\n",
       "</style>\n",
       "<table border=\"1\" class=\"dataframe\">\n",
       "  <thead>\n",
       "    <tr style=\"text-align: right;\">\n",
       "      <th></th>\n",
       "      <th>category</th>\n",
       "      <th>count</th>\n",
       "      <th>levels</th>\n",
       "    </tr>\n",
       "  </thead>\n",
       "  <tbody>\n",
       "    <tr>\n",
       "      <th>578</th>\n",
       "      <td>Electronics-&gt;Car &amp; Vehicle Electronics-&gt;Car Electronics-&gt;Car Audio-&gt;Amplifiers</td>\n",
       "      <td>1842</td>\n",
       "      <td>5</td>\n",
       "    </tr>\n",
       "    <tr>\n",
       "      <th>911</th>\n",
       "      <td>Electronics-&gt;Computers &amp; Accessories-&gt;Warranties &amp; Services-&gt;Service Plans</td>\n",
       "      <td>3</td>\n",
       "      <td>4</td>\n",
       "    </tr>\n",
       "    <tr>\n",
       "      <th>1313</th>\n",
       "      <td>Sports &amp; Outdoors-&gt;Accessories-&gt;Sport Watches</td>\n",
       "      <td>5</td>\n",
       "      <td>3</td>\n",
       "    </tr>\n",
       "    <tr>\n",
       "      <th>597</th>\n",
       "      <td>Electronics-&gt;Computers &amp; Accessories-&gt;External Components-&gt;External TV Tuners</td>\n",
       "      <td>77</td>\n",
       "      <td>4</td>\n",
       "    </tr>\n",
       "    <tr>\n",
       "      <th>35</th>\n",
       "      <td>Electronics-&gt;GPS &amp; Navigation-&gt;Sports &amp; Handheld GPS</td>\n",
       "      <td>1214</td>\n",
       "      <td>3</td>\n",
       "    </tr>\n",
       "  </tbody>\n",
       "</table>\n",
       "</div>"
      ],
      "text/plain": [
       "                                                                            category  \\\n",
       "578   Electronics->Car & Vehicle Electronics->Car Electronics->Car Audio->Amplifiers   \n",
       "911   Electronics->Computers & Accessories->Warranties & Services->Service Plans       \n",
       "1313  Sports & Outdoors->Accessories->Sport Watches                                    \n",
       "597   Electronics->Computers & Accessories->External Components->External TV Tuners    \n",
       "35    Electronics->GPS & Navigation->Sports & Handheld GPS                             \n",
       "\n",
       "      count  levels  \n",
       "578   1842   5       \n",
       "911   3      4       \n",
       "1313  5      3       \n",
       "597   77     4       \n",
       "35    1214   3       "
      ]
     },
     "execution_count": 9,
     "metadata": {},
     "output_type": "execute_result"
    }
   ],
   "source": [
    "cat_df = pd.DataFrame.from_dict(cat, orient = 'index')\n",
    "cat_df.reset_index(level = 0, inplace = True)\n",
    "cat_df.columns = ['category','count']\n",
    "cat_df['levels'] = cat_df['category'].apply(lambda x: len(x.split('->')))\n",
    "cat_df.sample(5)"
   ]
  },
  {
   "cell_type": "code",
   "execution_count": 10,
   "metadata": {},
   "outputs": [
    {
     "data": {
      "text/plain": [
       "7"
      ]
     },
     "execution_count": 10,
     "metadata": {},
     "output_type": "execute_result"
    }
   ],
   "source": [
    "import numpy as np\n",
    "np.max(cat_df['levels'])"
   ]
  },
  {
   "cell_type": "code",
   "execution_count": 11,
   "metadata": {},
   "outputs": [],
   "source": [
    "cat_df_sorted = cat_df.sort_values(by = ['levels','count'],ascending=[True, False])\n",
    "cat_df_sorted.to_csv(product_type +\"_category_counts.csv\")"
   ]
  },
  {
   "cell_type": "code",
   "execution_count": 25,
   "metadata": {},
   "outputs": [
    {
     "data": {
      "text/plain": [
       "(3540, 9)"
      ]
     },
     "execution_count": 25,
     "metadata": {},
     "output_type": "execute_result"
    }
   ],
   "source": [
    "# extract the meta data for example category\n",
    "select_cat = 'Electronics->Accessories & Supplies->Audio & Video Accessories->TV Accessories & Parts->TV Ceiling & Wall Mounts'.split('->')\n",
    "select_meta = df[ df['categories'].apply(lambda x: select_cat in x) ]\n",
    "select_meta.shape"
   ]
  }
 ],
 "metadata": {
  "kernelspec": {
   "display_name": "Python 3",
   "language": "python",
   "name": "python3"
  },
  "language_info": {
   "codemirror_mode": {
    "name": "ipython",
    "version": 3
   },
   "file_extension": ".py",
   "mimetype": "text/x-python",
   "name": "python",
   "nbconvert_exporter": "python",
   "pygments_lexer": "ipython3",
   "version": "3.7.0"
  }
 },
 "nbformat": 4,
 "nbformat_minor": 2
}
