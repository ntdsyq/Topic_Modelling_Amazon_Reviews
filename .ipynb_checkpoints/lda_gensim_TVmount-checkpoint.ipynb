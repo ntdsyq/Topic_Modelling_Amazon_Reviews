{
 "cells": [
  {
   "cell_type": "code",
   "execution_count": null,
   "metadata": {},
   "outputs": [],
   "source": [
    "import os\n",
    "# proj_path = 'C:\\\\Users\\\\yanqi\\\\Documents\\\\NYCDSA\\\\Project 4 - Capstone\\\\AmazonReview'\n",
    "# os.chdir(proj_path)\n",
    "import pandas as pd\n",
    "pd.set_option('display.max_colwidth', -1)  # to view entire text in any column\n",
    "import numpy as np\n",
    "import random\n",
    "import matplotlib.pyplot as plt\n",
    "%matplotlib inline\n",
    "import seaborn as sns\n",
    "import re\n",
    "import string\n",
    "import gzip\n",
    "from pprint import pprint\n",
    "\n",
    "import gensim\n",
    "from gensim import corpora\n",
    "from gensim.models import CoherenceModel\n",
    "\n",
    "import pyLDAvis\n",
    "import pyLDAvis.gensim   # for visualizing found topics\n",
    "from model_utils import qc_dict, out_topics_docs, check_topic_doc_prob, topn_docs_by_topic\n",
    "\n",
    "# to suppress many deprecationwarning: invalid escape sequence\n",
    "import warnings\n",
    "warnings.simplefilter('ignore')  # suppressing deprecation warnings when running gensim LDA, category=DeprecationWarning\n",
    "\n",
    "import logging  # add filename='lda_model.log' for external log file, set level = logging.ERROR or logging.INFO\n",
    "logging.basicConfig(format='%(asctime)s : %(levelname)s : %(message)s', level=logging.INFO) "
   ]
  },
  {
   "cell_type": "code",
   "execution_count": null,
   "metadata": {},
   "outputs": [],
   "source": [
    "## Load data, prepare corpus and dictionary\n",
    "\n",
    "select_cat = 'Electronics->Accessories & Supplies->Audio & Video Accessories->TV Accessories & Parts->TV Ceiling & Wall Mounts'.split('->')\n",
    "\n",
    "# useful attributes & methods: dictionary.token2id to get mapping, dictionary.num_docs \n",
    "df = pd.read_csv(select_cat[-1] + \"_processed.csv\", index_col= 0)\n",
    "df.reset_index(drop=True, inplace = True)\n",
    "reviews = df['review_lemmatized'].copy()\n",
    "reviews = reviews.apply(lambda x: x.split())\n",
    "\n",
    "# Dictionary expects a list of list (of tokens)\n",
    "dictionary = corpora.Dictionary(reviews)\n",
    "dictionary.filter_extremes(no_below=3)  # remove terms that appear in < 3 documents, memory use estimate: 8 bytes * num_terms * num_topics * 3\n",
    "\n",
    "# number of terms\n",
    "nd = dictionary.num_docs\n",
    "nt = len(dictionary.keys())\n",
    "print(\"number of documents\", nd)\n",
    "print(\"number of terms\", nt)\n",
    "\n",
    "qc_dict(dictionary)\n",
    "\n",
    "# create document term matrix (corpus), it's a list of nd elements, nd = the number of documents\n",
    "# each element of DTM (AKA corpus) is a list of tuples (int, int) representing (word_index, frequency)\n",
    "DTM = [dictionary.doc2bow(doc) for doc in reviews]\n"
   ]
  },
  {
   "cell_type": "code",
   "execution_count": null,
   "metadata": {},
   "outputs": [],
   "source": [
    "## run lda model\n",
    "\n",
    "LDA = gensim.models.ldamodel.LdaModel\n",
    "n_topics = 10\n",
    "passes = 10\n",
    "iterations = 400\n",
    "\n",
    "%time lda_model = LDA(corpus=DTM, id2word=dictionary, num_topics=n_topics, alpha = 'auto', eta = 'auto', passes = passes, iterations = 400)\n"
   ]
  },
  {
   "cell_type": "code",
   "execution_count": null,
   "metadata": {},
   "outputs": [],
   "source": [
    "## check priors, conherence score, and create topic visualization\n",
    "\n",
    "print(lda_model.alpha)\n",
    "print(max(lda_model.eta))\n",
    "print(min(lda_model.eta))\n",
    "print(np.mean(lda_model.eta))\n",
    "\n",
    "coherence_lda_model = CoherenceModel(model=lda_model, texts=reviews, dictionary=dictionary, coherence='c_v')\n",
    "cs = coherence_lda_model.get_coherence()\n",
    "print(\"model coherence score is:\", cs)"
   ]
  },
  {
   "cell_type": "code",
   "execution_count": null,
   "metadata": {},
   "outputs": [],
   "source": [
    "pprint(lda_model.print_topics())"
   ]
  },
  {
   "cell_type": "code",
   "execution_count": null,
   "metadata": {},
   "outputs": [],
   "source": [
    "## A closer look at the document_topics distribution\n",
    "len(lda_model[DTM]) \n",
    "topics_docs_dict = out_topics_docs(lda_model, DTM)\n",
    "\n",
    "# check doc_topic probability distribution\n",
    "for t in sorted(topics_docs_dict.keys()):\n",
    "    test_prob = check_topic_doc_prob(topics_docs_dict, t)\n",
    "    print(test_prob.describe(),\"\\n\")\n",
    "    \n",
    "# examine each topic by topic key words, number of generated documents, document probabilities, docs with top probabilities\n",
    "topic_num = 0\n",
    "print(lda_model.show_topic(topicid=topic_num))\n",
    "print(\"topic\", topic_num, \"has\", len(topics_docs_dict[topic_num]),\"documents\")\n",
    "print(\"Distribution of probabilities of documents being generated from this topic:\")\n",
    "doc_prob = check_topic_doc_prob(topics_docs_dict, topic_num)\n",
    "print(doc_prob.describe(),\"\\n\")\n",
    "top_docprobs = topn_docs_by_topic(topics_docs_dict,topic_num, 10)\n",
    "idxs = pd.Series([x[0] for x in top_docprobs])\n",
    "probs = pd.Series([x[1] for x in top_docprobs])\n",
    "texts = pd.Series([df['review_no_html'][i] for i in idxs])\n",
    "products = pd.Series([df['title'][i] for i in idxs])\n",
    "asins = pd.Series([df['asin'][i] for i in idxs])\n",
    "top_docs_df = pd.concat([asins, products, idxs, probs, texts], axis = 1)\n",
    "top_docs_df.columns = ['asin','product','doc_id', 'prob_from_topic','reviewText']\n",
    "pd.set_option('display.max_columns', 500)\n",
    "top_docs_df[['asin','product','doc_id', 'prob_from_topic']]\n",
    "top_docs_df['reviewText']"
   ]
  },
  {
   "cell_type": "code",
   "execution_count": null,
   "metadata": {},
   "outputs": [],
   "source": [
    "## create topic vis\n",
    "\n",
    "pyLDAvis.enable_notebook()\n",
    "vis = pyLDAvis.gensim.prepare(lda_model, DTM, dictionary)"
   ]
  }
 ],
 "metadata": {
  "kernelspec": {
   "display_name": "Python 3",
   "language": "python",
   "name": "python3"
  },
  "language_info": {
   "codemirror_mode": {
    "name": "ipython",
    "version": 3
   },
   "file_extension": ".py",
   "mimetype": "text/x-python",
   "name": "python",
   "nbconvert_exporter": "python",
   "pygments_lexer": "ipython3",
   "version": "3.7.0"
  }
 },
 "nbformat": 4,
 "nbformat_minor": 2
}
