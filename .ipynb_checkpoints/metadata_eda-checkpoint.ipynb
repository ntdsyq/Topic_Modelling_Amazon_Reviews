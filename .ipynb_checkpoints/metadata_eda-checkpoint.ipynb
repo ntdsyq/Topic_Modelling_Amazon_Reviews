{
 "cells": [
  {
   "cell_type": "code",
   "execution_count": 1,
   "metadata": {},
   "outputs": [],
   "source": [
    "import pandas as pd\n",
    "import gzip\n",
    "import matplotlib.pyplot as plt\n",
    "%matplotlib inline\n",
    "pd.set_option('display.max_colwidth', -1)"
   ]
  },
  {
   "cell_type": "code",
   "execution_count": 2,
   "metadata": {},
   "outputs": [],
   "source": [
    "def parse(path):\n",
    "  g = gzip.open(path, 'rb')\n",
    "  for l in g:\n",
    "    yield eval(l)\n",
    "\n",
    "def getDF(path):\n",
    "  i = 0\n",
    "  df = {}\n",
    "  for d in parse(path):\n",
    "    df[i] = d\n",
    "    i += 1\n",
    "  return pd.DataFrame.from_dict(df, orient='index')"
   ]
  },
  {
   "cell_type": "code",
   "execution_count": 3,
   "metadata": {},
   "outputs": [
    {
     "data": {
      "text/plain": [
       "(1503384, 9)"
      ]
     },
     "execution_count": 3,
     "metadata": {},
     "output_type": "execute_result"
    }
   ],
   "source": [
    "# possible values: \"Electronics\", \"Cell_Phones_and_Accessories\", \"Clothing_Shoes_and_Jewelry\"\n",
    "product_type = \"Electronics\"\n",
    "meta_fname = \"meta_\" + product_type + \".json.gz\"\n",
    "df = getDF(meta_fname)\n",
    "df.shape"
   ]
  },
  {
   "cell_type": "code",
   "execution_count": 11,
   "metadata": {},
   "outputs": [
    {
     "data": {
      "text/plain": [
       "Index(['asin', 'related', 'title', 'price', 'salesRank', 'imUrl', 'brand',\n",
       "       'categories', 'description'],\n",
       "      dtype='object')"
      ]
     },
     "execution_count": 11,
     "metadata": {},
     "output_type": "execute_result"
    }
   ],
   "source": [
    "df.columns"
   ]
  },
  {
   "cell_type": "code",
   "execution_count": null,
   "metadata": {},
   "outputs": [],
   "source": [
    "key_cols = ['asin', 'title', 'price', 'brand','categories', 'description']"
   ]
  },
  {
   "cell_type": "code",
   "execution_count": 4,
   "metadata": {},
   "outputs": [
    {
     "data": {
      "text/html": [
       "<div>\n",
       "<style scoped>\n",
       "    .dataframe tbody tr th:only-of-type {\n",
       "        vertical-align: middle;\n",
       "    }\n",
       "\n",
       "    .dataframe tbody tr th {\n",
       "        vertical-align: top;\n",
       "    }\n",
       "\n",
       "    .dataframe thead th {\n",
       "        text-align: right;\n",
       "    }\n",
       "</style>\n",
       "<table border=\"1\" class=\"dataframe\">\n",
       "  <thead>\n",
       "    <tr style=\"text-align: right;\">\n",
       "      <th></th>\n",
       "      <th>asin</th>\n",
       "      <th>categories</th>\n",
       "    </tr>\n",
       "  </thead>\n",
       "  <tbody>\n",
       "    <tr>\n",
       "      <th>908008</th>\n",
       "      <td>B00942UUTG</td>\n",
       "      <td>[[Clothing, Shoes &amp; Jewelry, M, Mudd], [Clothing, Shoes &amp; Jewelry, Girls, Clothing, Swim, Two-Pieces, Tankinis]]</td>\n",
       "    </tr>\n",
       "    <tr>\n",
       "      <th>235118</th>\n",
       "      <td>B002L6HIC4</td>\n",
       "      <td>[[Clothing, Shoes &amp; Jewelry, New Arrivals, New Jewelry], [Clothing, Shoes &amp; Jewelry, Jewelry: International Shipping Available], [Clothing, Shoes &amp; Jewelry, Amazon Curated Collection], [Clothing, Shoes &amp; Jewelry, Women, Jewelry, Fine, Earrings, Drop &amp; Dangle], [Clothing, Shoes &amp; Jewelry, Women, Jewelry, Fashion, Earrings, Drop &amp; Dangle], [Clothing, Shoes &amp; Jewelry, Novelty, Costumes &amp; More, Novelty]]</td>\n",
       "    </tr>\n",
       "    <tr>\n",
       "      <th>495546</th>\n",
       "      <td>B0050D1TWK</td>\n",
       "      <td>[[Clothing, Shoes &amp; Jewelry, Women, Jewelry, Fashion, Charms &amp; Charm Bracelets, Charms], [Clothing, Shoes &amp; Jewelry, Novelty, Costumes &amp; More, Novelty]]</td>\n",
       "    </tr>\n",
       "    <tr>\n",
       "      <th>1458620</th>\n",
       "      <td>B00I50R2HG</td>\n",
       "      <td>[[Clothing, Shoes &amp; Jewelry, Men, Clothing, Shirts, Casual Button-Down Shirts]]</td>\n",
       "    </tr>\n",
       "    <tr>\n",
       "      <th>1056748</th>\n",
       "      <td>B00B0AZJAA</td>\n",
       "      <td>[[Clothing, Shoes &amp; Jewelry, Women, Clothing, Tops &amp; Tees, Henleys]]</td>\n",
       "    </tr>\n",
       "    <tr>\n",
       "      <th>775710</th>\n",
       "      <td>B007YYZUX2</td>\n",
       "      <td>[[Clothing, Shoes &amp; Jewelry, Shoes &amp; Accessories: International Shipping Available], [Clothing, Shoes &amp; Jewelry, Arche], [Clothing, Shoes &amp; Jewelry, Comfort Shoes], [Clothing, Shoes &amp; Jewelry, Boot Shop, Women, Fashion], [Clothing, Shoes &amp; Jewelry, Women, Shoes, Boots]]</td>\n",
       "    </tr>\n",
       "    <tr>\n",
       "      <th>1199987</th>\n",
       "      <td>B00CPE3BPU</td>\n",
       "      <td>[[Clothing, Shoes &amp; Jewelry, Women, Jewelry, Fashion], [Clothing, Shoes &amp; Jewelry, Novelty, Costumes &amp; More, Novelty, Jewelry, Wedding &amp; Engagement Rings, Engagement Rings]]</td>\n",
       "    </tr>\n",
       "    <tr>\n",
       "      <th>1445759</th>\n",
       "      <td>B00HQXIVCS</td>\n",
       "      <td>[[Clothing, Shoes &amp; Jewelry, Baby, Baby Girls, Clothing, Swim, One Pieces]]</td>\n",
       "    </tr>\n",
       "    <tr>\n",
       "      <th>823789</th>\n",
       "      <td>B008CGAMPW</td>\n",
       "      <td>[[Clothing, Shoes &amp; Jewelry, N, Nike], [Clothing, Shoes &amp; Jewelry, Men, Shoes, Fashion Sneakers]]</td>\n",
       "    </tr>\n",
       "    <tr>\n",
       "      <th>746106</th>\n",
       "      <td>B007PBEQY8</td>\n",
       "      <td>[[Clothing, Shoes &amp; Jewelry, Women, Clothing, Jeans]]</td>\n",
       "    </tr>\n",
       "  </tbody>\n",
       "</table>\n",
       "</div>"
      ],
      "text/plain": [
       "               asin  \\\n",
       "908008   B00942UUTG   \n",
       "235118   B002L6HIC4   \n",
       "495546   B0050D1TWK   \n",
       "1458620  B00I50R2HG   \n",
       "1056748  B00B0AZJAA   \n",
       "775710   B007YYZUX2   \n",
       "1199987  B00CPE3BPU   \n",
       "1445759  B00HQXIVCS   \n",
       "823789   B008CGAMPW   \n",
       "746106   B007PBEQY8   \n",
       "\n",
       "                                                                                                                                                                                                                                                                                                                                                                                                                  categories  \n",
       "908008   [[Clothing, Shoes & Jewelry, M, Mudd], [Clothing, Shoes & Jewelry, Girls, Clothing, Swim, Two-Pieces, Tankinis]]                                                                                                                                                                                                                                                                                                     \n",
       "235118   [[Clothing, Shoes & Jewelry, New Arrivals, New Jewelry], [Clothing, Shoes & Jewelry, Jewelry: International Shipping Available], [Clothing, Shoes & Jewelry, Amazon Curated Collection], [Clothing, Shoes & Jewelry, Women, Jewelry, Fine, Earrings, Drop & Dangle], [Clothing, Shoes & Jewelry, Women, Jewelry, Fashion, Earrings, Drop & Dangle], [Clothing, Shoes & Jewelry, Novelty, Costumes & More, Novelty]]  \n",
       "495546   [[Clothing, Shoes & Jewelry, Women, Jewelry, Fashion, Charms & Charm Bracelets, Charms], [Clothing, Shoes & Jewelry, Novelty, Costumes & More, Novelty]]                                                                                                                                                                                                                                                             \n",
       "1458620  [[Clothing, Shoes & Jewelry, Men, Clothing, Shirts, Casual Button-Down Shirts]]                                                                                                                                                                                                                                                                                                                                      \n",
       "1056748  [[Clothing, Shoes & Jewelry, Women, Clothing, Tops & Tees, Henleys]]                                                                                                                                                                                                                                                                                                                                                 \n",
       "775710   [[Clothing, Shoes & Jewelry, Shoes & Accessories: International Shipping Available], [Clothing, Shoes & Jewelry, Arche], [Clothing, Shoes & Jewelry, Comfort Shoes], [Clothing, Shoes & Jewelry, Boot Shop, Women, Fashion], [Clothing, Shoes & Jewelry, Women, Shoes, Boots]]                                                                                                                                       \n",
       "1199987  [[Clothing, Shoes & Jewelry, Women, Jewelry, Fashion], [Clothing, Shoes & Jewelry, Novelty, Costumes & More, Novelty, Jewelry, Wedding & Engagement Rings, Engagement Rings]]                                                                                                                                                                                                                                        \n",
       "1445759  [[Clothing, Shoes & Jewelry, Baby, Baby Girls, Clothing, Swim, One Pieces]]                                                                                                                                                                                                                                                                                                                                          \n",
       "823789   [[Clothing, Shoes & Jewelry, N, Nike], [Clothing, Shoes & Jewelry, Men, Shoes, Fashion Sneakers]]                                                                                                                                                                                                                                                                                                                    \n",
       "746106   [[Clothing, Shoes & Jewelry, Women, Clothing, Jeans]]                                                                                                                                                                                                                                                                                                                                                                "
      ]
     },
     "execution_count": 4,
     "metadata": {},
     "output_type": "execute_result"
    }
   ],
   "source": [
    "df[['asin','categories']].sample(10)  \n",
    "# categories are nested lists, each list is one category and its sub-categories under all electronics"
   ]
  },
  {
   "cell_type": "code",
   "execution_count": 5,
   "metadata": {},
   "outputs": [
    {
     "name": "stdout",
     "output_type": "stream",
     "text": [
      "4909\n"
     ]
    }
   ],
   "source": [
    "from collections import defaultdict\n",
    "cat = defaultdict(int)\n",
    "\n",
    "for row in df['categories']:\n",
    "    for e in row:\n",
    "        hc = ''\n",
    "        for i,c in enumerate(e):\n",
    "            if i > 0:\n",
    "                hc = hc + '->' + c\n",
    "            else:\n",
    "                hc = c\n",
    "            cat[hc] += 1\n",
    "\n",
    "print(len(cat.keys()))"
   ]
  },
  {
   "cell_type": "code",
   "execution_count": 7,
   "metadata": {},
   "outputs": [
    {
     "data": {
      "text/html": [
       "<div>\n",
       "<style scoped>\n",
       "    .dataframe tbody tr th:only-of-type {\n",
       "        vertical-align: middle;\n",
       "    }\n",
       "\n",
       "    .dataframe tbody tr th {\n",
       "        vertical-align: top;\n",
       "    }\n",
       "\n",
       "    .dataframe thead th {\n",
       "        text-align: right;\n",
       "    }\n",
       "</style>\n",
       "<table border=\"1\" class=\"dataframe\">\n",
       "  <thead>\n",
       "    <tr style=\"text-align: right;\">\n",
       "      <th></th>\n",
       "      <th>category</th>\n",
       "      <th>count</th>\n",
       "      <th>levels</th>\n",
       "    </tr>\n",
       "  </thead>\n",
       "  <tbody>\n",
       "    <tr>\n",
       "      <th>2471</th>\n",
       "      <td>Clothing, Shoes &amp; Jewelry-&gt;Women-&gt;Petite-&gt;Dresses-&gt;Wedding-&gt;Wedding Dresses</td>\n",
       "      <td>83</td>\n",
       "      <td>6</td>\n",
       "    </tr>\n",
       "    <tr>\n",
       "      <th>3212</th>\n",
       "      <td>Clothing, Shoes &amp; Jewelry-&gt;Novelty, Costumes &amp; More-&gt;Novelty-&gt;Clothing-&gt;Women-&gt;Sleep &amp; Lounge-&gt;Sets</td>\n",
       "      <td>298</td>\n",
       "      <td>7</td>\n",
       "    </tr>\n",
       "    <tr>\n",
       "      <th>1267</th>\n",
       "      <td>Clothing, Shoes &amp; Jewelry-&gt;Baby-&gt;Baby Boys-&gt;Clothing-&gt;Sleepwear &amp; Robes</td>\n",
       "      <td>1581</td>\n",
       "      <td>5</td>\n",
       "    </tr>\n",
       "    <tr>\n",
       "      <th>1728</th>\n",
       "      <td>Clothing, Shoes &amp; Jewelry-&gt;Women-&gt;Accessories-&gt;Wallets, Card Cases &amp; Money Organizers-&gt;Card &amp; ID Cases-&gt;ID Cases</td>\n",
       "      <td>32</td>\n",
       "      <td>6</td>\n",
       "    </tr>\n",
       "    <tr>\n",
       "      <th>443</th>\n",
       "      <td>Clothing, Shoes &amp; Jewelry-&gt;Novelty, Costumes &amp; More-&gt;Work Wear &amp; Uniforms-&gt;Clothing-&gt;Work Utility &amp; Safety-&gt;Men-&gt;Overalls &amp; Coveralls</td>\n",
       "      <td>533</td>\n",
       "      <td>7</td>\n",
       "    </tr>\n",
       "  </tbody>\n",
       "</table>\n",
       "</div>"
      ],
      "text/plain": [
       "                                                                                                                                   category  \\\n",
       "2471  Clothing, Shoes & Jewelry->Women->Petite->Dresses->Wedding->Wedding Dresses                                                             \n",
       "3212  Clothing, Shoes & Jewelry->Novelty, Costumes & More->Novelty->Clothing->Women->Sleep & Lounge->Sets                                     \n",
       "1267  Clothing, Shoes & Jewelry->Baby->Baby Boys->Clothing->Sleepwear & Robes                                                                 \n",
       "1728  Clothing, Shoes & Jewelry->Women->Accessories->Wallets, Card Cases & Money Organizers->Card & ID Cases->ID Cases                        \n",
       "443   Clothing, Shoes & Jewelry->Novelty, Costumes & More->Work Wear & Uniforms->Clothing->Work Utility & Safety->Men->Overalls & Coveralls   \n",
       "\n",
       "      count  levels  \n",
       "2471  83     6       \n",
       "3212  298    7       \n",
       "1267  1581   5       \n",
       "1728  32     6       \n",
       "443   533    7       "
      ]
     },
     "execution_count": 7,
     "metadata": {},
     "output_type": "execute_result"
    }
   ],
   "source": [
    "cat_df = pd.DataFrame.from_dict(cat, orient = 'index')\n",
    "cat_df.reset_index(level = 0, inplace = True)\n",
    "cat_df.columns = ['category','count']\n",
    "cat_df['levels'] = cat_df['category'].apply(lambda x: len(x.split('->')))\n",
    "cat_df.sample(5)"
   ]
  },
  {
   "cell_type": "code",
   "execution_count": 8,
   "metadata": {},
   "outputs": [
    {
     "data": {
      "text/plain": [
       "8"
      ]
     },
     "execution_count": 8,
     "metadata": {},
     "output_type": "execute_result"
    }
   ],
   "source": [
    "import numpy as np\n",
    "np.max(cat_df['levels'])"
   ]
  },
  {
   "cell_type": "code",
   "execution_count": 9,
   "metadata": {},
   "outputs": [],
   "source": [
    "cat_df_sorted = cat_df.sort_values(by = ['levels','count'],ascending=[True, False])\n",
    "cat_df_sorted.to_csv(product_type +\"_category_counts.csv\")"
   ]
  },
  {
   "cell_type": "code",
   "execution_count": null,
   "metadata": {},
   "outputs": [],
   "source": [
    "# extract the meta data for selected categories\n"
   ]
  }
 ],
 "metadata": {
  "kernelspec": {
   "display_name": "Python 3",
   "language": "python",
   "name": "python3"
  },
  "language_info": {
   "codemirror_mode": {
    "name": "ipython",
    "version": 3
   },
   "file_extension": ".py",
   "mimetype": "text/x-python",
   "name": "python",
   "nbconvert_exporter": "python",
   "pygments_lexer": "ipython3",
   "version": "3.7.0"
  }
 },
 "nbformat": 4,
 "nbformat_minor": 2
}
