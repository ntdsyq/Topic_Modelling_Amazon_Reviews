{
 "cells": [
  {
   "cell_type": "code",
   "execution_count": null,
   "metadata": {},
   "outputs": [],
   "source": [
    "import os\n",
    "from model_utils import detail_cat\n",
    "import pandas as pd\n",
    "\n",
    "import pickle\n",
    "from pprint import pprint\n",
    "from model_utils import out_topics_docs, check_topic_doc_prob, topn_docs_by_topic, load_processed_data\n",
    "pd.set_option('display.max_columns', 500)"
   ]
  },
  {
   "cell_type": "code",
   "execution_count": null,
   "metadata": {},
   "outputs": [],
   "source": [
    "df, reviews = load_processed_data()\n",
    "\n",
    "# load model and gensim corpus\n",
    "with open('ldamodels.pickle','rb') as f:\n",
    "    lda, temp, x1, x2, DTM, dictionary = pickle.load(f) # chose model with 20 topics, selected 15 from 20\n",
    "\n",
    "# convert mallet LDA to gensim LDA for vis\n",
    "import gensim\n",
    "lda_gensim = gensim.models.wrappers.ldamallet.malletmodel2ldamodel(lda)\n",
    "import pyLDAvis\n",
    "import pyLDAvis.gensim\n",
    "pyLDAvis.enable_notebook()\n",
    "vis = pyLDAvis.gensim.prepare(lda_gensim, DTM, dictionary)"
   ]
  }
 ],
 "metadata": {
  "kernelspec": {
   "display_name": "Python 3",
   "language": "python",
   "name": "python3"
  },
  "language_info": {
   "codemirror_mode": {
    "name": "ipython",
    "version": 3
   },
   "file_extension": ".py",
   "mimetype": "text/x-python",
   "name": "python",
   "nbconvert_exporter": "python",
   "pygments_lexer": "ipython3",
   "version": "3.7.0"
  }
 },
 "nbformat": 4,
 "nbformat_minor": 2
}
